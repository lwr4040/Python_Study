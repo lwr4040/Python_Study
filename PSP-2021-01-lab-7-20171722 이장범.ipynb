{
 "cells": [
  {
   "cell_type": "markdown",
   "metadata": {},
   "source": [
    "<h1 align='center'> 파이썬과학프로그래밍기초 실습 7</h1>\n",
    "\n",
    "<p style=\"text-align: right\"> 2021.4.28.</p>"
   ]
  },
  {
   "cell_type": "markdown",
   "metadata": {},
   "source": [
    "### <div class=\"alert alert-block alert-info\">\n",
    "    \n",
    "- 파일 이름에서 00000000을 자신의 학번으로, name을 자신의 이름으로 수정하세요.\n",
    "\n",
    "- 다음 줄에 자신의 이름, 학번, 학과(전공)을 적으세요.\n",
    "\n",
    "* 이름:   이장범        학번: 러시아학과   학과(전공):20171722\n",
    "    \n",
    "</div>\n",
    "\n",
    "- Jupyter notebook에 대한 설명은 [The Jupyter Notebook](https://jupyter-notebook.readthedocs.io/en/stable/)을  참고하라\n",
    "\n",
    "- Markdown은 [Markdown Guide](https://www.markdownguide.org/)를 참고하라.\n",
    "- [Markdown Cheat Sheet](https://www.markdownguide.org/cheat-sheet/)\n",
    "\n",
    "* 과제 제출: 4월 30일 (금) 오후 6:00까지 최종본 제출. \n"
   ]
  },
  {
   "cell_type": "markdown",
   "metadata": {},
   "source": [
    "#### 문제 0: 아래 셀에 다음 명령을 실행하라.\n",
    "\n",
    "```\n",
    "import numpy as np\n",
    "np.__version__\n",
    "```\n"
   ]
  },
  {
   "cell_type": "code",
   "execution_count": 55,
   "metadata": {},
   "outputs": [
    {
     "data": {
      "text/plain": [
       "'1.19.2'"
      ]
     },
     "execution_count": 55,
     "metadata": {},
     "output_type": "execute_result"
    }
   ],
   "source": [
    "import numpy as np\n",
    "np.__version__"
   ]
  },
  {
   "cell_type": "markdown",
   "metadata": {},
   "source": [
    "#### 문제 1.\n",
    "NumPy의 arange를 사용하여 다음 ndarray를 만들어라.\n",
    "\n",
    "```\n",
    "array([0, 1, 2, 3, 4, 5, 6, 7], dtype=int16)\n",
    "```"
   ]
  },
  {
   "cell_type": "code",
   "execution_count": 118,
   "metadata": {},
   "outputs": [
    {
     "data": {
      "text/plain": [
       "array([0, 1, 2, 3, 4, 5, 6, 7], dtype=int16)"
      ]
     },
     "execution_count": 118,
     "metadata": {},
     "output_type": "execute_result"
    }
   ],
   "source": [
    "aa=np.arange(8,dtype=np.int16)\n",
    "aa"
   ]
  },
  {
   "cell_type": "markdown",
   "metadata": {},
   "source": [
    "#### 문제 2.\n",
    "NumPy의 arange를 사용하여 다음 ndarray를 만들어라.\n",
    "\n",
    "```\n",
    "array([ 0,  2,  4,  6,  8, 10, 12, 14], dtype=int64)\n",
    "```"
   ]
  },
  {
   "cell_type": "code",
   "execution_count": 59,
   "metadata": {},
   "outputs": [
    {
     "data": {
      "text/plain": [
       "array([ 0,  2,  4,  6,  8, 10, 12, 14], dtype=int64)"
      ]
     },
     "execution_count": 59,
     "metadata": {},
     "output_type": "execute_result"
    }
   ],
   "source": [
    "np.arange(0,16,2,dtype=np.int64)"
   ]
  },
  {
   "cell_type": "markdown",
   "metadata": {},
   "source": [
    "#### 문제 3.\n",
    "NumPy의 arange를 사용하여 다음 ndarray를 만들어라.\n",
    "\n",
    "```\n",
    "array([1. , 1.2, 1.4, 1.6, 1.8])\n",
    "```"
   ]
  },
  {
   "cell_type": "code",
   "execution_count": 51,
   "metadata": {},
   "outputs": [
    {
     "data": {
      "text/plain": [
       "array([1. , 1.2, 1.4, 1.6, 1.8])"
      ]
     },
     "execution_count": 51,
     "metadata": {},
     "output_type": "execute_result"
    }
   ],
   "source": [
    "np.arange(1.0,2.0,0.2)\n"
   ]
  },
  {
   "cell_type": "markdown",
   "metadata": {},
   "source": [
    "#### 문제 4.\n",
    "NumPy의 linspace를 사용하여 다음 ndarray를 만들어라.\n",
    "\n",
    "```\n",
    "array([ 0. ,  2.5,  5. ,  7.5, 10. ])\n",
    "```"
   ]
  },
  {
   "cell_type": "code",
   "execution_count": 29,
   "metadata": {},
   "outputs": [
    {
     "data": {
      "text/plain": [
       "array([ 0. ,  2.5,  5. ,  7.5, 10. ])"
      ]
     },
     "execution_count": 29,
     "metadata": {},
     "output_type": "execute_result"
    }
   ],
   "source": [
    "np.arange(0.,12.5,2.5)"
   ]
  },
  {
   "cell_type": "markdown",
   "metadata": {},
   "source": [
    "#### 문제 5.\n",
    "NumPy의 linspace를 사용하여 다음 ndarray를 만들어라.\n",
    "\n",
    "```\n",
    "array([ 1.  ,  3.25,  5.5 ,  7.75, 10.  ])\n",
    "```"
   ]
  },
  {
   "cell_type": "code",
   "execution_count": 32,
   "metadata": {},
   "outputs": [
    {
     "data": {
      "text/plain": [
       "array([ 1.  ,  3.25,  5.5 ,  7.75, 10.  ])"
      ]
     },
     "execution_count": 32,
     "metadata": {},
     "output_type": "execute_result"
    }
   ],
   "source": [
    "np.arange(1.,12.25,2.25)"
   ]
  },
  {
   "cell_type": "markdown",
   "metadata": {},
   "source": [
    "#### 문제 7.\n",
    "NumPy의 arange와 reshape을 사용하여 다음 ndarray를 만들어라.\n",
    "\n",
    "```\n",
    "array([[ 2,  4,  6,  8],\n",
    "       [10, 12, 14, 16],\n",
    "       [18, 20, 22, 24],\n",
    "       [26, 28, 30, 32]], dtype=int64)\n",
    "```"
   ]
  },
  {
   "cell_type": "code",
   "execution_count": 63,
   "metadata": {},
   "outputs": [
    {
     "data": {
      "text/plain": [
       "array([[ 2,  4,  6,  8],\n",
       "       [10, 12, 14, 16],\n",
       "       [18, 20, 22, 24],\n",
       "       [26, 28, 30, 32]], dtype=int64)"
      ]
     },
     "execution_count": 63,
     "metadata": {},
     "output_type": "execute_result"
    }
   ],
   "source": [
    "np.arange(2,33,2,dtype=np.int64).reshape(4,4)\n"
   ]
  },
  {
   "cell_type": "markdown",
   "metadata": {},
   "source": [
    "#### 문제 8.\n",
    "문제 7에서 만든 ndarray에서 4, 12, 20, 28의 합 64를 출력하는 문장 2 개를 작성하라. (서로 다른 두 가지 방법으로 같은 결과를 출력하라)"
   ]
  },
  {
   "cell_type": "code",
   "execution_count": 70,
   "metadata": {},
   "outputs": [
    {
     "data": {
      "text/plain": [
       "64"
      ]
     },
     "execution_count": 70,
     "metadata": {},
     "output_type": "execute_result"
    }
   ],
   "source": [
    "w=np.arange(2,33,2,dtype=np.int64).reshape(4,4)\n",
    "w[:,1].sum()"
   ]
  },
  {
   "cell_type": "code",
   "execution_count": 71,
   "metadata": {},
   "outputs": [
    {
     "name": "stdout",
     "output_type": "stream",
     "text": [
      "64\n"
     ]
    }
   ],
   "source": [
    "w=np.arange(2,33,2,dtype=np.int64).reshape(4,4)\n",
    "print(w.sum(0)[1])"
   ]
  },
  {
   "cell_type": "markdown",
   "metadata": {},
   "source": [
    "#### 문제 9.\n",
    "문제 7에서 만든 ndarray에서 18, 20, 22, 24의 합 84를 출력하는 문장 3 개를 작성하라. (서로 다른 두 가지 방법으로 같은 결과를 출력하라)"
   ]
  },
  {
   "cell_type": "code",
   "execution_count": 73,
   "metadata": {},
   "outputs": [
    {
     "data": {
      "text/plain": [
       "84"
      ]
     },
     "execution_count": 73,
     "metadata": {},
     "output_type": "execute_result"
    }
   ],
   "source": [
    "w=np.arange(2,33,2,dtype=np.int64).reshape(4,4)\n",
    "w[2,:].sum()"
   ]
  },
  {
   "cell_type": "code",
   "execution_count": 75,
   "metadata": {},
   "outputs": [
    {
     "name": "stdout",
     "output_type": "stream",
     "text": [
      "84\n"
     ]
    }
   ],
   "source": [
    "w=np.arange(2,33,2,dtype=np.int64).reshape(4,4)\n",
    "print(w.sum(1)[2])"
   ]
  },
  {
   "cell_type": "code",
   "execution_count": 116,
   "metadata": {},
   "outputs": [
    {
     "data": {
      "text/plain": [
       "84"
      ]
     },
     "execution_count": 116,
     "metadata": {},
     "output_type": "execute_result"
    }
   ],
   "source": [
    "w=np.arange(2,33,2,dtype=np.int64).reshape(4,4)\n",
    "w[np.arange(3)[2]].sum()"
   ]
  },
  {
   "cell_type": "markdown",
   "metadata": {},
   "source": [
    "#### 문제 10.\n",
    "문제 7에서 만든 ndarray에서 2, 12, 22, 32의 합 68을 출력하는 문장을 작성하라."
   ]
  },
  {
   "cell_type": "code",
   "execution_count": 81,
   "metadata": {},
   "outputs": [
    {
     "data": {
      "text/plain": [
       "68"
      ]
     },
     "execution_count": 81,
     "metadata": {},
     "output_type": "execute_result"
    }
   ],
   "source": [
    "w=np.arange(2,33,2,dtype=np.int64).reshape(4,4)\n",
    "np.diag(w).sum()\n"
   ]
  },
  {
   "cell_type": "markdown",
   "metadata": {},
   "source": [
    "#### 문제 11.\n",
    "문제 7에서 만든 ndarray에서 4, 14, 24의 합 42을 출력하는 문장을 작성하라."
   ]
  },
  {
   "cell_type": "code",
   "execution_count": 82,
   "metadata": {},
   "outputs": [
    {
     "data": {
      "text/plain": [
       "42"
      ]
     },
     "execution_count": 82,
     "metadata": {},
     "output_type": "execute_result"
    }
   ],
   "source": [
    "w=np.arange(2,33,2,dtype=np.int64).reshape(4,4)\n",
    "np.diag(w,1).sum()"
   ]
  },
  {
   "cell_type": "markdown",
   "metadata": {},
   "source": [
    "#### 문제 12.\n",
    "문제 7에서 만든 ndarray에서 10, 20, 30의 합 60을 출력하는 문장을 작성하라."
   ]
  },
  {
   "cell_type": "code",
   "execution_count": 84,
   "metadata": {},
   "outputs": [
    {
     "data": {
      "text/plain": [
       "60"
      ]
     },
     "execution_count": 84,
     "metadata": {},
     "output_type": "execute_result"
    }
   ],
   "source": [
    "np.diag(w,-1).sum()"
   ]
  },
  {
   "cell_type": "markdown",
   "metadata": {},
   "source": [
    "#### 문제 15.\n",
    "다음 ndarray를 만들고 변수 a에 이 객체를 할당하라. 단, 모든 원소를 직접 나열하면 안된다.\n",
    "\n",
    "```\n",
    "array([[[ 3,  6],\n",
    "        [ 9, 12],\n",
    "        [15, 18]],\n",
    "\n",
    "       [[21, 24],\n",
    "        [27, 30],\n",
    "        [33, 36]],\n",
    "\n",
    "       [[39, 42],\n",
    "        [45, 48],\n",
    "        [51, 54]],\n",
    "\n",
    "       [[57, 60],\n",
    "        [63, 66],\n",
    "        [69, 72]]])\n",
    "```"
   ]
  },
  {
   "cell_type": "code",
   "execution_count": 86,
   "metadata": {
    "scrolled": true
   },
   "outputs": [
    {
     "name": "stdout",
     "output_type": "stream",
     "text": [
      "[[[ 3  6]\n",
      "  [ 9 12]\n",
      "  [15 18]]\n",
      "\n",
      " [[21 24]\n",
      "  [27 30]\n",
      "  [33 36]]\n",
      "\n",
      " [[39 42]\n",
      "  [45 48]\n",
      "  [51 54]]\n",
      "\n",
      " [[57 60]\n",
      "  [63 66]\n",
      "  [69 72]]]\n"
     ]
    }
   ],
   "source": [
    "a= np.arange(3,75,3).reshape(4,3,2)\n",
    "print(a)"
   ]
  },
  {
   "cell_type": "markdown",
   "metadata": {},
   "source": [
    "#### 문제 16.\n",
    "문제 15에서 만든 a에서 9, 27, 45, 63의 합 144를 출력하는 문장을 작성하라."
   ]
  },
  {
   "cell_type": "code",
   "execution_count": 96,
   "metadata": {},
   "outputs": [
    {
     "name": "stdout",
     "output_type": "stream",
     "text": [
      "144\n"
     ]
    }
   ],
   "source": [
    "a= np.arange(3,75,3).reshape(4,3,2)\n",
    "print(a.sum(1)[2][1])"
   ]
  },
  {
   "cell_type": "markdown",
   "metadata": {},
   "source": [
    "#### 문제 17.\n",
    "문제 15에서 만든 a와 shape과 dtype이 같고, 모든 원소가 1인 ndarray를 만들어라."
   ]
  },
  {
   "cell_type": "code",
   "execution_count": 90,
   "metadata": {},
   "outputs": [
    {
     "data": {
      "text/plain": [
       "array([[[1, 1],\n",
       "        [1, 1],\n",
       "        [1, 1]],\n",
       "\n",
       "       [[1, 1],\n",
       "        [1, 1],\n",
       "        [1, 1]],\n",
       "\n",
       "       [[1, 1],\n",
       "        [1, 1],\n",
       "        [1, 1]],\n",
       "\n",
       "       [[1, 1],\n",
       "        [1, 1],\n",
       "        [1, 1]]])"
      ]
     },
     "execution_count": 90,
     "metadata": {},
     "output_type": "execute_result"
    }
   ],
   "source": [
    "np.ones_like(a)"
   ]
  },
  {
   "cell_type": "markdown",
   "metadata": {},
   "source": [
    "#### 문제 18\n",
    "문제 15에서 만든 a와 shape과 dtype이 같고, 모든 원소가 7인 ndarray를 만들어라."
   ]
  },
  {
   "cell_type": "code",
   "execution_count": 91,
   "metadata": {
    "scrolled": true
   },
   "outputs": [
    {
     "data": {
      "text/plain": [
       "array([[[7, 7],\n",
       "        [7, 7],\n",
       "        [7, 7]],\n",
       "\n",
       "       [[7, 7],\n",
       "        [7, 7],\n",
       "        [7, 7]],\n",
       "\n",
       "       [[7, 7],\n",
       "        [7, 7],\n",
       "        [7, 7]],\n",
       "\n",
       "       [[7, 7],\n",
       "        [7, 7],\n",
       "        [7, 7]]])"
      ]
     },
     "execution_count": 91,
     "metadata": {},
     "output_type": "execute_result"
    }
   ],
   "source": [
    "np.full_like(a,7)"
   ]
  }
 ],
 "metadata": {
  "kernelspec": {
   "display_name": "Python 3",
   "language": "python",
   "name": "python3"
  },
  "language_info": {
   "codemirror_mode": {
    "name": "ipython",
    "version": 3
   },
   "file_extension": ".py",
   "mimetype": "text/x-python",
   "name": "python",
   "nbconvert_exporter": "python",
   "pygments_lexer": "ipython3",
   "version": "3.8.5"
  },
  "latex_envs": {
   "LaTeX_envs_menu_present": true,
   "autoclose": false,
   "autocomplete": true,
   "bibliofile": "biblio.bib",
   "cite_by": "apalike",
   "current_citInitial": 1,
   "eqLabelWithNumbers": true,
   "eqNumInitial": 1,
   "hotkeys": {
    "equation": "Ctrl-E",
    "itemize": "Ctrl-I"
   },
   "labels_anchors": false,
   "latex_user_defs": false,
   "report_style_numbering": false,
   "user_envs_cfg": false
  },
  "toc": {
   "base_numbering": 1,
   "nav_menu": {},
   "number_sections": false,
   "sideBar": true,
   "skip_h1_title": false,
   "title_cell": "Table of Contents",
   "title_sidebar": "Contents",
   "toc_cell": false,
   "toc_position": {
    "height": "calc(100% - 180px)",
    "left": "10px",
    "top": "150px",
    "width": "270.5px"
   },
   "toc_section_display": true,
   "toc_window_display": false
  }
 },
 "nbformat": 4,
 "nbformat_minor": 2
}
