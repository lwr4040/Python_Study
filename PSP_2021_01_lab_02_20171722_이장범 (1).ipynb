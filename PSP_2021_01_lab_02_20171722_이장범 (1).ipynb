{
 "cells": [
  {
   "cell_type": "markdown",
   "metadata": {
    "id": "ZKl95iXhVl3e"
   },
   "source": [
    "<h1 align='center'> 파이썬과학프로그래밍기초 실습 2</h1>\n",
    "\n",
    "<p style=\"text-align: right\"> 2021.3.17</p>"
   ]
  },
  {
   "cell_type": "markdown",
   "metadata": {
    "id": "-2BdM5OvVl3h"
   },
   "source": [
    "<div class=\"alert alert-block alert-info\">\n",
    "    \n",
    "- 파일 이름에서 00000000을 자신의 학번으로, name을 자신의 이름으로 수정하세요.\n",
    "\n",
    "- 다음 줄에 자신의 이름, 학번, 학과(전공)을 적으세요.\n",
    "\n",
    "* 이름:   이장범  학번: 러시아학과   학과(전공):20171722\n",
    "    \n",
    "</div>\n",
    "\n",
    "- Jupyter notebook에 대한 설명은 [The Jupyter Notebook](https://jupyter-notebook.readthedocs.io/en/stable/)을  참고하라\n",
    "\n",
    "- Markdown은 [Markdown Guide](https://www.markdownguide.org/)를 참고하라.\n",
    "- [Markdown Cheat Sheet](https://www.markdownguide.org/cheat-sheet/)\n",
    "\n",
    "* 1차 제출: 오후 3:20까지 실습 시간에 마무리한 것을 제출\n",
    "* 2차 마감: 1차 제출시 완성하지 못한 학생들은 3월 19일 (금) 오후 6:00까지 최종본 제출\n"
   ]
  },
  {
   "cell_type": "markdown",
   "metadata": {
    "id": "3FYAuPiVVl3i"
   },
   "source": [
    "행렬은 수 또는 다항식들을 직사각형 형태로 배열한 것이다.\n",
    "\n",
    "$$ A = \\begin{bmatrix}\n",
    "            3 & 5 & 7\\\\\n",
    "            1 & 3 & 4\\\\\n",
    "\\end{bmatrix}\n",
    "\\begin{bmatrix} 1 & 2 \\\\ 2 & 3 \\\\ 1 & -1\\end{bmatrix}\n",
    "= \\begin{bmatrix} \n",
    "(3)(1) + (5)(2) + (7)(1) &  (3)(2) + (5)(3) + (7)(-1) \\\\\n",
    "(1)(1) + (3)(2) + (4)(1) &  (1)(2) + (3)(3) + (4)(-1)\n",
    "\\end{bmatrix}\n",
    "= \\begin{bmatrix} \n",
    "20 &  14 \\\\\n",
    "12 &  7\n",
    "\\end{bmatrix}\n",
    "$$\n"
   ]
  },
  {
   "cell_type": "markdown",
   "metadata": {
    "id": "dGwwS5VVfx1E"
   },
   "source": [
    "행렬은 수 또는 다항식들을 직사각형 형태로 배열한 것이다.\n",
    "\n",
    "$$ A = \\begin{bmatrix}\n",
    "            3 & 5 & 7\\\\\n",
    "            1 & 3 & 4\\\\\n",
    "\\end{bmatrix}\n",
    "\\begin{bmatrix} 1 & 2 \\\\ 2 & 3 \\\\ 1 & -1\\end{bmatrix}\n",
    "= \\begin{bmatrix} \n",
    "(3)(1) + (5)(2) + (7)(1) &  (3)(2) + (5)(3) + (7)(-1) \\\\\n",
    "(1)(1) + (3)(2) + (4)(1) &  (1)(2) + (3)(3) + (4)(-1)\n",
    "\\end{bmatrix}\n",
    "= \\begin{bmatrix} \n",
    "20 &  14 \\\\\n",
    "12 &  7\n",
    "\\end{bmatrix}\n",
    "$$\n"
   ]
  },
  {
   "cell_type": "markdown",
   "metadata": {
    "id": "Ss484M4zVl3i"
   },
   "source": [
    "#### 예제 2. while loop의 brake와 continue\n",
    "\n",
    "다음 예제 프로그램을 실행하라"
   ]
  },
  {
   "cell_type": "code",
   "execution_count": 5,
   "metadata": {
    "id": "s1LIru0VVl3j"
   },
   "outputs": [
    {
     "name": "stdout",
     "output_type": "stream",
     "text": [
      "1\n",
      "2\n",
      "3\n",
      "4\n"
     ]
    }
   ],
   "source": [
    "n=1\n",
    "while (n<7):\n",
    "    if (n%5==0):\n",
    "        break\n",
    "    print(n)\n",
    "    n = n+1"
   ]
  },
  {
   "cell_type": "code",
   "execution_count": 2,
   "metadata": {
    "colab": {
     "base_uri": "https://localhost:8080/"
    },
    "id": "MA4eHYhEVl3j",
    "outputId": "41a24072-093c-41d7-c4e1-91dc910a0410"
   },
   "outputs": [
    {
     "name": "stdout",
     "output_type": "stream",
     "text": [
      "1\n",
      "2\n",
      "3\n",
      "5\n",
      "6\n"
     ]
    }
   ],
   "source": [
    "n=1\n",
    "while (n<7):\n",
    "    if (n%4==0):\n",
    "        n = n + 1\n",
    "        continue\n",
    "    print(n)\n",
    "    n = n+1"
   ]
  },
  {
   "cell_type": "markdown",
   "metadata": {
    "id": "4sUtyG-9Vl3j"
   },
   "source": [
    "#### 문제 1. 예제 2에서 break와 continue의 기능을 설명하라."
   ]
  },
  {
   "cell_type": "markdown",
   "metadata": {
    "id": "pP_Gvc4PVl3j"
   },
   "source": [
    "** *이탤릭체 텍스트*답**:break는 반복되고 있는 영역을 즉시 중지시킬 때 사용하고,continue는 반복된 문장에서 continue를 만나면 다음 반복문으로 넘어가서 반복한다."
   ]
  },
  {
   "cell_type": "markdown",
   "metadata": {
    "id": "dVRtf5DSVl3k"
   },
   "source": [
    "#### 문제 2. 예제 2의 프로그램을 for loop을 이용해서 다시 작성하라."
   ]
  },
  {
   "cell_type": "code",
   "execution_count": 4,
   "metadata": {
    "colab": {
     "base_uri": "https://localhost:8080/"
    },
    "id": "kwGZvmM3Vl3k",
    "outputId": "944cccaa-d230-410f-8de9-c43e16a10640"
   },
   "outputs": [
    {
     "name": "stdout",
     "output_type": "stream",
     "text": [
      "1\n",
      "2\n",
      "3\n",
      "4\n"
     ]
    }
   ],
   "source": [
    "for i in range(1, 7):\n",
    "    if(i%5==0):\n",
    "        break\n",
    "    else:\n",
    "        print(i)"
   ]
  },
  {
   "cell_type": "code",
   "execution_count": 3,
   "metadata": {
    "id": "xkLYm5MnV6IK"
   },
   "outputs": [
    {
     "name": "stdout",
     "output_type": "stream",
     "text": [
      "1\n",
      "2\n",
      "3\n",
      "5\n",
      "6\n"
     ]
    }
   ],
   "source": [
    "for i in range(1, 7):\n",
    "    if(i%4==0):\n",
    "        continue\n",
    "    else:\n",
    "        print(i)"
   ]
  },
  {
   "cell_type": "markdown",
   "metadata": {
    "id": "86k2NY8CVl3k"
   },
   "source": [
    "#### 예제 3. 다음은 리스트 안의 수를 모두 더하는 프로그램이다. 이를 실행해 보자."
   ]
  },
  {
   "cell_type": "code",
   "execution_count": 4,
   "metadata": {
    "colab": {
     "base_uri": "https://localhost:8080/"
    },
    "id": "FV2aYNQBVl3k",
    "outputId": "fac9cefb-0cfc-49de-e628-94113163f6f8"
   },
   "outputs": [
    {
     "name": "stdout",
     "output_type": "stream",
     "text": [
      "리스트의 합은 23이다.\n"
     ]
    }
   ],
   "source": [
    "numbers = [1, 5, 3, 6, 8]\n",
    "sum = 0\n",
    "for num in numbers:\n",
    "    sum += num\n",
    "print(f\"리스트의 합은 {sum}이다.\")"
   ]
  },
  {
   "cell_type": "markdown",
   "metadata": {
    "id": "FB6dWXoCVl3k"
   },
   "source": [
    "#### 문제 3. 예제 3의 프로그램을 while loop을 이용해서 다시 작성하라."
   ]
  },
  {
   "cell_type": "code",
   "execution_count": 2,
   "metadata": {
    "id": "lfZ5XbmLVl3k"
   },
   "outputs": [
    {
     "name": "stdout",
     "output_type": "stream",
     "text": [
      "리스트의 합은 23이다.\n"
     ]
    }
   ],
   "source": [
    "numbers=[1,5,3,6,8]\n",
    "sum=0\n",
    "i=0\n",
    "while i < len(numbers):\n",
    "    sum+=numbers[i]\n",
    "    i+=1\n",
    "\n",
    "print(f\"리스트의 합은 {sum}이다.\")\n",
    "\n"
   ]
  },
  {
   "cell_type": "markdown",
   "metadata": {
    "id": "LV50BStjVl3k"
   },
   "source": [
    "#### 문제 4. 예제 3의 프로그램을 리스트의 모든 수를 곱한 결과를 출력하도록 수정하라."
   ]
  },
  {
   "cell_type": "code",
   "execution_count": 1,
   "metadata": {
    "id": "ITiRWJ6nVl3l"
   },
   "outputs": [
    {
     "name": "stdout",
     "output_type": "stream",
     "text": [
      "리스트의 합은 720이다.\n"
     ]
    }
   ],
   "source": [
    "numbers = [1, 5, 3, 6, 8]\n",
    "sum = 1\n",
    "for num in numbers:\n",
    "    sum *= num\n",
    "print(f\"리스트의 합은 {sum}이다.\")"
   ]
  },
  {
   "cell_type": "markdown",
   "metadata": {
    "id": "l_ZE8HOzVl3l"
   },
   "source": [
    "#### 문제 5. 예제 3의 프로그램에서 리스트에 숫자가 아닌 객체가 있는 경우를 생각해 보자. 다음 셀의 프로그램은 실행 중에 오류가 발생한다. numbers라는 리스트의 숫자만 더해서 합을 계산하도록 수정하라."
   ]
  },
  {
   "cell_type": "code",
   "execution_count": 6,
   "metadata": {
    "colab": {
     "base_uri": "https://localhost:8080/",
     "height": 222
    },
    "id": "t35S4Fc_Vl3l",
    "outputId": "dc2f1836-9ced-4be6-91d4-904d34eec395"
   },
   "outputs": [
    {
     "name": "stdout",
     "output_type": "stream",
     "text": [
      "리스트의 합은 17.7이다.\n"
     ]
    }
   ],
   "source": [
    "numbers = [1, 5.5, 3.2, 'a', 8]\n",
    "sum = 0\n",
    "for num in numbers:\n",
    "    if str(num) >='a' and str(num)<='z':\n",
    "        continue\n",
    "    else:\n",
    "        sum+=num\n",
    "print(f\"리스트의 합은 {sum}이다.\")"
   ]
  },
  {
   "cell_type": "markdown",
   "metadata": {
    "id": "a82fo3YsVl3l"
   },
   "source": [
    "#### 예제 4. 다음 셀을 실행해 보라."
   ]
  },
  {
   "cell_type": "code",
   "execution_count": 6,
   "metadata": {
    "colab": {
     "base_uri": "https://localhost:8080/"
    },
    "id": "QCcEdXqSVl3l",
    "outputId": "8bac2959-cdd0-4089-9c83-797e1671a3a0"
   },
   "outputs": [
    {
     "name": "stdout",
     "output_type": "stream",
     "text": [
      "34, 89, 64, 13, 34, 8, 38, 14, 63, 57, "
     ]
    }
   ],
   "source": [
    "import random\n",
    "for _ in range(10):\n",
    "    print(random.randint(1, 100), end=\", \")"
   ]
  },
  {
   "cell_type": "markdown",
   "metadata": {
    "id": "8O_KhksDVl3l"
   },
   "source": [
    "#### 문제 6. help(object) 라는 함수는 object에 대한 설명을 출력한다. 아래 셀을 실행해서 random.randint에 대한 설명을 보고 예제 5에 있는 프로그램이 어떤 기능을 하는지 설명하라."
   ]
  },
  {
   "cell_type": "code",
   "execution_count": 7,
   "metadata": {
    "colab": {
     "base_uri": "https://localhost:8080/"
    },
    "id": "6OBOICmrVl3m",
    "outputId": "4ca82c22-11e4-441c-b5b4-5bd05022ee5c"
   },
   "outputs": [
    {
     "name": "stdout",
     "output_type": "stream",
     "text": [
      "Help on method randint in module random:\n",
      "\n",
      "randint(a, b) method of random.Random instance\n",
      "    Return random integer in range [a, b], including both end points.\n",
      "\n"
     ]
    }
   ],
   "source": [
    "help(random.randint)"
   ]
  },
  {
   "cell_type": "markdown",
   "metadata": {
    "id": "9-L-0gk5Vl3m"
   },
   "source": [
    " **답**:random에 있는 함수로써 랜덤으로 a와 b사이의 정수를 반환하는 함수이다."
   ]
  },
  {
   "cell_type": "markdown",
   "metadata": {
    "id": "7hueSalhVl3m"
   },
   "source": [
    "#### 문제 8. 다음 프로그램이 무엇을 하는 프로그램인지 설명하라."
   ]
  },
  {
   "cell_type": "code",
   "execution_count": null,
   "metadata": {
    "id": "MAd5jSMHVl3m",
    "scrolled": true
   },
   "outputs": [],
   "source": [
    "numbers = []\n",
    "for _ in range(40):\n",
    "    numbers.append(random.randint(1, 80))\n",
    "bumbers =    \n",
    "in_num = int(input(\"1과 80 사이의 정수를 입력하시오: \"))\n",
    "\n",
    "found = False\n",
    "for num in numbers:\n",
    "    if num == in_num:\n",
    "        found = True\n",
    "        break\n",
    "\n",
    "if found:\n",
    "    print(f\"{in_num}는 리스트에 포함되어 있다.\")\n",
    "else:\n",
    "    print(f\"{in_num}는 리스트에 포함되어 있지 않다.\")\n",
    "print(numbers)          "
   ]
  },
  {
   "cell_type": "markdown",
   "metadata": {
    "id": "-wz795nMeDPO"
   },
   "source": [
    "**답 :**numbers의 list에 랜덤으로 1부터 80까지의 숫자를 집어넣은 다음, 사용자가 숫자를 입력해서 리스트에 포함되어 있는지 없는지를 판가름하는 프로그램이다."
   ]
  },
  {
   "cell_type": "markdown",
   "metadata": {
    "id": "pJlPVKRgVl3n"
   },
   "source": [
    "#### 예제 5. 문제 8을 다음과 같이 수정할 수 있다. 이 예제의 for-else 구문에서 else의 블록이 언제 실행되는지 설명하라."
   ]
  },
  {
   "cell_type": "code",
   "execution_count": 3,
   "metadata": {
    "id": "0p7-hm68Vl3n",
    "scrolled": false
   },
   "outputs": [
    {
     "name": "stdout",
     "output_type": "stream",
     "text": [
      "1과 80 사이의 정수를 입력하시오: 80\n",
      "80는 리스트에 포함되어 있지 않다.\n",
      "[30, 45, 20, 52, 56, 2, 41, 46, 9, 78, 61, 30, 60, 34, 74, 16, 39, 59, 44, 1, 73, 39, 55, 63, 1, 26, 34, 8, 36, 47, 8, 21, 61, 15, 50, 14, 32, 52, 3, 3]\n"
     ]
    }
   ],
   "source": [
    "import random\n",
    "numbers = []\n",
    "for _ in range(40):\n",
    "    numbers.append(random.randint(1, 80))\n",
    "\n",
    "in_num = int(input(\"1과 80 사이의 정수를 입력하시오: \"))\n",
    "\n",
    "for num in numbers:\n",
    "    if num == in_num:\n",
    "        print(f\"{in_num}는 리스트에 포함되어 있다.\")\n",
    "        break\n",
    "else:\n",
    "    print(f\"{in_num}는 리스트에 포함되어 있지 않다.\")\n",
    "print(numbers)          "
   ]
  },
  {
   "cell_type": "markdown",
   "metadata": {
    "id": "OxYpMAfElzox"
   },
   "source": [
    "**답**: in_num의 리스트에 실행되지 않은 "
   ]
  },
  {
   "cell_type": "markdown",
   "metadata": {
    "id": "N3Tv8SK9Vl3n"
   },
   "source": [
    "####  문제 9. 문제 8의 소스를 in 연산자를 사용해서 for loop을 전혀 사용하지 않는 프로그램으로 수정하라."
   ]
  },
  {
   "cell_type": "code",
   "execution_count": 6,
   "metadata": {
    "id": "clyd7I38Vl3n",
    "scrolled": true
   },
   "outputs": [
    {
     "name": "stdout",
     "output_type": "stream",
     "text": [
      "1과 80 사이의 정수를 입력하시오: 80\n",
      "80은 리스트에 포함되었습니다.\n"
     ]
    }
   ],
   "source": [
    "numbers = []\n",
    "for _ in range(40):\n",
    "    numbers.append(random.randint(1, 80))\n",
    "\n",
    "in_num = int(input(\"1과 80 사이의 정수를 입력하시오: \"))\n",
    "if in_num in numbers:\n",
    "    print(str(in_num)+\"은 리스트에 포함되었습니다.\")\n",
    "else:\n",
    "    print(str(in_num)+\"은 리스트에 포함되지 않았습니다.\")\n",
    "\n",
    "\n",
    "       "
   ]
  },
  {
   "cell_type": "markdown",
   "metadata": {
    "id": "uidDyawAVl3n"
   },
   "source": [
    "#### 예제 6. 문제 8에서 다른 부분은 그대로 두고  for loop만 while loop으로 수정한 것이다. 프로그램 구조를 살펴보라."
   ]
  },
  {
   "cell_type": "code",
   "execution_count": 7,
   "metadata": {
    "id": "lWgukvK-Vl3n",
    "scrolled": true
   },
   "outputs": [
    {
     "name": "stdout",
     "output_type": "stream",
     "text": [
      "1과 80 사이의 정수를 입력하시오: 80\n",
      "80는 리스트에 포함되어 있다.\n",
      "[3, 53, 69, 77, 44, 68, 46, 9, 79, 16, 53, 3, 3, 77, 7, 45, 80, 64, 45, 33, 43, 73, 35, 80, 8, 6, 77, 27, 58, 37, 74, 64, 74, 71, 71, 74, 33, 67, 77, 11]\n"
     ]
    }
   ],
   "source": [
    "numbers = []\n",
    "for _ in range(40):\n",
    "    numbers.append(random.randint(1, 80))\n",
    "\n",
    "in_num = int(input(\"1과 80 사이의 정수를 입력하시오: \"))\n",
    "\n",
    "found = False\n",
    "n = 0\n",
    "while n < len(numbers):\n",
    "    if numbers[n] == in_num:\n",
    "        found = True\n",
    "        break\n",
    "    n += 1\n",
    "if found:\n",
    "    print(f\"{in_num}는 리스트에 포함되어 있다.\")\n",
    "else:\n",
    "    print(f\"{in_num}는 리스트에 포함되어 있지 않다.\")\n",
    "print(numbers)          "
   ]
  },
  {
   "cell_type": "markdown",
   "metadata": {
    "id": "1gkGF4iNVl3n"
   },
   "source": [
    "#### 문제 10. 예제 6에서 while 부분을 whlle-else 구문을 이용해서 수정하라. 참고로 while-else 구문에서 else의 역할은 for-else 구문에서 else 역할과 같다."
   ]
  },
  {
   "cell_type": "code",
   "execution_count": 8,
   "metadata": {
    "id": "xmgxsulWVl3n",
    "scrolled": true
   },
   "outputs": [
    {
     "name": "stdout",
     "output_type": "stream",
     "text": [
      "1과 80 사이의 정수를 입력하시오: 50\n",
      "50는 리스트에 포함되어 있지 않다.\n",
      "[28, 74, 27, 8, 45, 30, 58, 62, 32, 37, 10, 60, 54, 67, 64, 3, 54, 70, 17, 37, 80, 44, 6, 71, 60, 68, 69, 68, 79, 54, 31, 5, 32, 67, 3, 64, 56, 17, 53, 60]\n"
     ]
    }
   ],
   "source": [
    "numbers = []\n",
    "for _ in range(40):\n",
    "    numbers.append(random.randint(1, 80))\n",
    "\n",
    "in_num = int(input(\"1과 80 사이의 정수를 입력하시오: \"))\n",
    "\n",
    "found = False\n",
    "n = 0\n",
    "while n < len(numbers):\n",
    "    if numbers[n] == in_num:\n",
    "        found = True\n",
    "        break\n",
    "    else:\n",
    "        print(f\"{in_num}는 리스트에 포함되어 있지 않다.\")\n",
    "        break\n",
    "    n += 1\n",
    "if found:\n",
    "    print(f\"{in_num}는 리스트에 포함되어 있다.\")\n",
    "print(numbers)"
   ]
  },
  {
   "cell_type": "markdown",
   "metadata": {
    "id": "Xrdcib1KVl3o"
   },
   "source": [
    "#### 문제 11. 키보드로 입력받은 자연수가 소수인지 확인하는 프로그램을 아래 셀에 작성하라. 단, for loop을 사용하라."
   ]
  },
  {
   "cell_type": "code",
   "execution_count": 2,
   "metadata": {
    "id": "ds0oX7hNVl3o"
   },
   "outputs": [
    {
     "name": "stdout",
     "output_type": "stream",
     "text": [
      "자연수를 입력하시오:2\n",
      "소수입니다\n"
     ]
    }
   ],
   "source": [
    "a= int(input(\"자연수를 입력하시오:\"))\n",
    "for i in range(1,a):\n",
    "    if i%a==0:\n",
    "        print(\"소수가 아닙니다.\")\n",
    "        break\n",
    "    else:\n",
    "        print(\"소수입니다\")\n",
    "        break"
   ]
  },
  {
   "cell_type": "markdown",
   "metadata": {
    "id": "MD8cMRe_Vl3o"
   },
   "source": [
    "#### 문제 12. 30이하의 자연수 중에 모든 소수를 출력하는 프로그램을 아래 셀에 작성하라. 단, 중첩 (nested) for loop을 사용하되, inner loop에서 for else 문을 사용하라."
   ]
  },
  {
   "cell_type": "code",
   "execution_count": 15,
   "metadata": {
    "id": "ZvCs29-QVl3o"
   },
   "outputs": [
    {
     "name": "stdout",
     "output_type": "stream",
     "text": [
      "3\n",
      "5\n",
      "7\n",
      "9\n",
      "11\n",
      "13\n",
      "15\n",
      "17\n",
      "19\n",
      "21\n",
      "23\n",
      "25\n",
      "27\n",
      "29\n"
     ]
    }
   ],
   "source": [
    "for i in range(2,31):\n",
    "    for j in range(2,30):\n",
    "        if i%j==0:\n",
    "            break\n",
    "        else:\n",
    "            print(\"%d\"%i)\n",
    "            break"
   ]
  },
  {
   "cell_type": "markdown",
   "metadata": {
    "id": "QjsFORpOVl3o"
   },
   "source": [
    "#### 예제 7. 다음 프로그램을 실행해 보라."
   ]
  },
  {
   "cell_type": "code",
   "execution_count": 8,
   "metadata": {
    "colab": {
     "base_uri": "https://localhost:8080/"
    },
    "id": "CH_Y94w4Vl3o",
    "outputId": "746bf194-24b7-4c99-c595-689acce3ebb5"
   },
   "outputs": [
    {
     "name": "stdout",
     "output_type": "stream",
     "text": [
      "0123456789\n"
     ]
    }
   ],
   "source": [
    "s = ''\n",
    "for n in range(10):\n",
    "    s += str(n)\n",
    "print(s)"
   ]
  },
  {
   "cell_type": "code",
   "execution_count": 9,
   "metadata": {
    "colab": {
     "base_uri": "https://localhost:8080/"
    },
    "id": "MzApJ0ARVl3o",
    "outputId": "efc48f8f-df1c-44fe-eff0-9a4019f16c80"
   },
   "outputs": [
    {
     "name": "stdout",
     "output_type": "stream",
     "text": [
      "9876543210\n"
     ]
    }
   ],
   "source": [
    "s = ''\n",
    "for n in range(10):\n",
    "    s = str(n) + s\n",
    "print(s)"
   ]
  },
  {
   "cell_type": "markdown",
   "metadata": {
    "id": "JgSSSDavVl3o"
   },
   "source": [
    "#### 문제 13. bin() 함수는 10진수 정수를 입력 받아 '0b'와 이진 문자열을 반환한다. 정수를 입력받아 bin()과 동일한 결과를 화면에 출력하는 프로그램을 작성하라. 단, 이 프로그램에서 구한 결과가 bin() 함수의 결과가 같을 때 결과를 출력해야 한다."
   ]
  },
  {
   "cell_type": "code",
   "execution_count": 10,
   "metadata": {
    "colab": {
     "base_uri": "https://localhost:8080/"
    },
    "id": "L9s09zuEVl3p",
    "outputId": "6a9dc824-2f49-4296-a514-d318fb4107a7"
   },
   "outputs": [
    {
     "data": {
      "text/plain": [
       "('0b11111110', '-0b110110000')"
      ]
     },
     "execution_count": 10,
     "metadata": {
      "tags": []
     },
     "output_type": "execute_result"
    }
   ],
   "source": [
    "bin(254), bin(-432)"
   ]
  },
  {
   "cell_type": "code",
   "execution_count": 1,
   "metadata": {
    "id": "Mh2GjiKOVl3p",
    "scrolled": true
   },
   "outputs": [
    {
     "name": "stdout",
     "output_type": "stream",
     "text": [
      "정수 입력 : 10\n",
      "0b1010\n"
     ]
    }
   ],
   "source": [
    "try:\n",
    "    input_num = int(input(\"정수 입력 : \"))\n",
    "\n",
    "    num = input_num\n",
    "    if num < 0:\n",
    "        prefix = '-0b'\n",
    "        num = abs(num)\n",
    "    else:\n",
    "        prefix = '0b'\n",
    "\n",
    "    binary = []\n",
    "    remainder = 1\n",
    "    quotient = num\n",
    "    while int(quotient) != 0:\n",
    "        quotient, remainder = divmod(num, 2)\n",
    "        binary.append(str(int(remainder)))\n",
    "        num = quotient\n",
    "\n",
    "    binStr = prefix + \"\".join(binary[::-1])\n",
    "    bin\n",
    "\n",
    "    if binStr == bin(input_num):\n",
    "        print(binStr)\n",
    "except ValueError:\n",
    "    print('invalid number')"
   ]
  }
 ],
 "metadata": {
  "colab": {
   "collapsed_sections": [],
   "name": "PSP-2021-01-lab-02-20171722-이장범.ipynb",
   "provenance": [],
   "toc_visible": true
  },
  "kernelspec": {
   "display_name": "Python 3",
   "language": "python",
   "name": "python3"
  },
  "language_info": {
   "codemirror_mode": {
    "name": "ipython",
    "version": 3
   },
   "file_extension": ".py",
   "mimetype": "text/x-python",
   "name": "python",
   "nbconvert_exporter": "python",
   "pygments_lexer": "ipython3",
   "version": "3.8.5"
  },
  "latex_envs": {
   "LaTeX_envs_menu_present": true,
   "autoclose": false,
   "autocomplete": true,
   "bibliofile": "biblio.bib",
   "cite_by": "apalike",
   "current_citInitial": 1,
   "eqLabelWithNumbers": true,
   "eqNumInitial": 1,
   "hotkeys": {
    "equation": "Ctrl-E",
    "itemize": "Ctrl-I"
   },
   "labels_anchors": false,
   "latex_user_defs": false,
   "report_style_numbering": false,
   "user_envs_cfg": false
  },
  "toc": {
   "base_numbering": 1,
   "nav_menu": {},
   "number_sections": false,
   "sideBar": true,
   "skip_h1_title": false,
   "title_cell": "Table of Contents",
   "title_sidebar": "Contents",
   "toc_cell": false,
   "toc_position": {
    "height": "calc(100% - 180px)",
    "left": "10px",
    "top": "150px",
    "width": "270.5px"
   },
   "toc_section_display": true,
   "toc_window_display": false
  }
 },
 "nbformat": 4,
 "nbformat_minor": 1
}
