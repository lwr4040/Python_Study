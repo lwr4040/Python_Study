{
 "cells": [
  {
   "cell_type": "code",
   "execution_count": 2,
   "metadata": {},
   "outputs": [
    {
     "name": "stdout",
     "output_type": "stream",
     "text": [
      "None\n",
      "None\n",
      "None\n",
      "None\n",
      "89000\n"
     ]
    },
    {
     "ename": "AttributeError",
     "evalue": "'BankAccount' object has no attribute 'newpin'",
     "output_type": "error",
     "traceback": [
      "\u001b[1;31m---------------------------------------------------------------------------\u001b[0m",
      "\u001b[1;31mAttributeError\u001b[0m                            Traceback (most recent call last)",
      "\u001b[1;32m<ipython-input-2-27b5b304fa45>\u001b[0m in \u001b[0;36m<module>\u001b[1;34m\u001b[0m\n\u001b[0;32m     29\u001b[0m \u001b[0mprint\u001b[0m\u001b[1;33m(\u001b[0m\u001b[0mbank1\u001b[0m\u001b[1;33m.\u001b[0m\u001b[0mwithdraw\u001b[0m\u001b[1;33m(\u001b[0m\u001b[1;34m'1234'\u001b[0m\u001b[1;33m,\u001b[0m\u001b[1;36m33000\u001b[0m\u001b[1;33m)\u001b[0m\u001b[1;33m)\u001b[0m\u001b[1;33m\u001b[0m\u001b[1;33m\u001b[0m\u001b[0m\n\u001b[0;32m     30\u001b[0m \u001b[0mprint\u001b[0m\u001b[1;33m(\u001b[0m\u001b[0mbank1\u001b[0m\u001b[1;33m.\u001b[0m\u001b[0mget_balance\u001b[0m\u001b[1;33m(\u001b[0m\u001b[1;33m)\u001b[0m\u001b[1;33m)\u001b[0m\u001b[1;33m\u001b[0m\u001b[1;33m\u001b[0m\u001b[0m\n\u001b[1;32m---> 31\u001b[1;33m \u001b[0mbank1\u001b[0m\u001b[1;33m.\u001b[0m\u001b[0mchange_pin\u001b[0m\u001b[1;33m(\u001b[0m\u001b[1;34m'1234'\u001b[0m\u001b[1;33m,\u001b[0m\u001b[1;34m'hello'\u001b[0m\u001b[1;33m)\u001b[0m\u001b[1;33m\u001b[0m\u001b[1;33m\u001b[0m\u001b[0m\n\u001b[0m\u001b[0;32m     32\u001b[0m \u001b[0mbank1\u001b[0m\u001b[1;33m.\u001b[0m\u001b[0mwithdraw\u001b[0m\u001b[1;33m(\u001b[0m\u001b[1;34m'1234'\u001b[0m\u001b[1;33m,\u001b[0m\u001b[1;36m10000\u001b[0m\u001b[1;33m)\u001b[0m\u001b[1;33m\u001b[0m\u001b[1;33m\u001b[0m\u001b[0m\n\u001b[0;32m     33\u001b[0m \u001b[0mprint\u001b[0m\u001b[1;33m(\u001b[0m\u001b[0mbank1\u001b[0m\u001b[1;33m.\u001b[0m\u001b[0mget_balance\u001b[0m\u001b[1;33m(\u001b[0m\u001b[1;33m)\u001b[0m\u001b[1;33m)\u001b[0m\u001b[1;33m\u001b[0m\u001b[1;33m\u001b[0m\u001b[0m\n",
      "\u001b[1;32m<ipython-input-2-27b5b304fa45>\u001b[0m in \u001b[0;36mchange_pin\u001b[1;34m(self, pin, newpin)\u001b[0m\n\u001b[0;32m     20\u001b[0m     \u001b[1;32mdef\u001b[0m \u001b[0mchange_pin\u001b[0m\u001b[1;33m(\u001b[0m\u001b[0mself\u001b[0m\u001b[1;33m,\u001b[0m\u001b[0mpin\u001b[0m\u001b[1;33m,\u001b[0m\u001b[0mnewpin\u001b[0m\u001b[1;33m)\u001b[0m\u001b[1;33m:\u001b[0m\u001b[1;33m\u001b[0m\u001b[1;33m\u001b[0m\u001b[0m\n\u001b[0;32m     21\u001b[0m         \u001b[1;32mif\u001b[0m \u001b[0mself\u001b[0m\u001b[1;33m.\u001b[0m\u001b[0mpin\u001b[0m\u001b[1;33m==\u001b[0m\u001b[0mpin\u001b[0m \u001b[1;33m:\u001b[0m\u001b[1;33m\u001b[0m\u001b[1;33m\u001b[0m\u001b[0m\n\u001b[1;32m---> 22\u001b[1;33m              \u001b[0mpin\u001b[0m\u001b[1;33m==\u001b[0m\u001b[0mself\u001b[0m\u001b[1;33m.\u001b[0m\u001b[0mnewpin\u001b[0m\u001b[1;33m\u001b[0m\u001b[1;33m\u001b[0m\u001b[0m\n\u001b[0m\u001b[0;32m     23\u001b[0m \u001b[1;33m\u001b[0m\u001b[0m\n\u001b[0;32m     24\u001b[0m \u001b[0mbank1\u001b[0m\u001b[1;33m=\u001b[0m \u001b[0mBankAccount\u001b[0m\u001b[1;33m(\u001b[0m\u001b[1;34m\"1234\"\u001b[0m\u001b[1;33m)\u001b[0m\u001b[1;33m\u001b[0m\u001b[1;33m\u001b[0m\u001b[0m\n",
      "\u001b[1;31mAttributeError\u001b[0m: 'BankAccount' object has no attribute 'newpin'"
     ]
    }
   ],
   "source": [
    "class BankAccount :\n",
    "#'''BankAccount는 은행 계좌 실습을 위해 만든 클래스임'''\n",
    "    def __init__ (self, pin):\n",
    "#         '''계좌 잔액 balance을 0으로 초기화하고 주어진 \"pin\"스트링으로 pin 변수를 설\n",
    "#         정한다.'''\n",
    "        self.balance=0\n",
    "        self.pin= \"1234\"\n",
    "    def deposit(self, pin, amount):\n",
    "#         '''주어진 금액 (amount)을 현 잔액에 더한 후 새로운 잔액을 리턴함'''\n",
    "        self.balance=self.balance +amount   \n",
    "        # 이 블록을 완성함....\n",
    "        # Hint : self.balance, self.pin   \n",
    "    def withdraw(self, pin, amount):\n",
    "        if self.balance>= amount:\n",
    "            self.balance-=amount\n",
    "#             self.balance= self.balance - amount\n",
    "#             because the balance decrease by the amount you withdraw\n",
    "    def get_balance(self):\n",
    "        return self.balance\n",
    "    def change_pin(self,pin,newpin):\n",
    "        if self.pin==pin :\n",
    "             pin==self.newpin\n",
    "                \n",
    "bank1= BankAccount(\"1234\")\n",
    "\n",
    "print(bank1.deposit(\"1234\",100000))\n",
    "print(bank1.deposit(\"1234\",12000))\n",
    "print(bank1.deposit('1111',10000))\n",
    "print(bank1.withdraw('1234',33000))\n",
    "print(bank1.get_balance())\n",
    "bank1.change_pin('1234','hello')\n",
    "bank1.withdraw('1234',10000)\n",
    "print(bank1.get_balance())\n",
    "bank1.withdraw('hello',10000)\n",
    "print(bank1.get_balance)"
   ]
  },
  {
   "cell_type": "code",
   "execution_count": 3,
   "metadata": {},
   "outputs": [
    {
     "ename": "SyntaxError",
     "evalue": "invalid syntax (<ipython-input-3-3bb9988a6ac7>, line 1)",
     "output_type": "error",
     "traceback": [
      "\u001b[1;36m  File \u001b[1;32m\"<ipython-input-3-3bb9988a6ac7>\"\u001b[1;36m, line \u001b[1;32m1\u001b[0m\n\u001b[1;33m    class SavingAccount('BankAccount')\u001b[0m\n\u001b[1;37m                                      ^\u001b[0m\n\u001b[1;31mSyntaxError\u001b[0m\u001b[1;31m:\u001b[0m invalid syntax\n"
     ]
    }
   ],
   "source": [
    "class SavingAccount('BankAccount')\n",
    "\n",
    "def __init__(self,pin,rate):\n",
    "    self.pin==pin\n",
    "def deposit(self,pin,amount):\n",
    "    if self. balance== self.balance+amount:\n",
    "        return (self.balance+amount)+0.05*(self.balance+amount)\n",
    "bank2= SavingAccount('hallym',5.0)\n",
    "print(bank2.deposit('hallym',100000))\n",
    "print(bank2.deposit('hallym',20000))\n",
    "print(bank2.withdraw('hallym',30000))\n",
    "print(bank2.get_balance())"
   ]
  }
 ],
 "metadata": {
  "kernelspec": {
   "display_name": "Python 3",
   "language": "python",
   "name": "python3"
  },
  "language_info": {
   "codemirror_mode": {
    "name": "ipython",
    "version": 3
   },
   "file_extension": ".py",
   "mimetype": "text/x-python",
   "name": "python",
   "nbconvert_exporter": "python",
   "pygments_lexer": "ipython3",
   "version": "3.8.5"
  }
 },
 "nbformat": 4,
 "nbformat_minor": 4
}
