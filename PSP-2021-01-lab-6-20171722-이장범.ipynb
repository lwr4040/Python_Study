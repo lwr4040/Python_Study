{
 "cells": [
  {
   "cell_type": "markdown",
   "metadata": {},
   "source": [
    "<h1 align='center'> 파이썬과학프로그래밍기초 실습 6</h1>\n",
    "\n",
    "<p style=\"text-align: right\"> 2021.4.14.</p>"
   ]
  },
  {
   "cell_type": "markdown",
   "metadata": {},
   "source": [
    "<div class=\"alert alert-block alert-info\">\n",
    "    \n",
    "- 파일 이름에서 00000000을 자신의 학번으로, name을 자신의 이름으로 수정하세요.\n",
    "\n",
    "- 다음 줄에 자신의 이름, 학번, 학과(전공)을 적으세요.\n",
    "\n",
    "* 이름:  이장범          학번: 20171722     학과(전공): 러시아학과\n",
    "    \n",
    "</div>\n",
    "\n",
    "- Jupyter notebook에 대한 설명은 [The Jupyter Notebook](https://jupyter-notebook.readthedocs.io/en/stable/)을  참고하라\n",
    "\n",
    "- Markdown은 [Markdown Guide](https://www.markdownguide.org/)를 참고하라.\n",
    "- [Markdown Cheat Sheet](https://www.markdownguide.org/cheat-sheet/)\n",
    "\n",
    "* 1차 제출: 오후 3:20까지 실습 시간에 마무리한 것을 제출\n",
    "* 2차 마감: 1차 제출시 완성하지 못한 학생들은 4월 16일 (금) 오후 6:00까지 최종본 제출. \n",
    "  1차에 모든 과제를 완성한 학생들도 1차와 2차에 모두 제출해야 함.\n"
   ]
  },
  {
   "cell_type": "markdown",
   "metadata": {},
   "source": [
    "#### 문제 1.\n",
    "문자열을 입력받아서 문자열의 순서를 반대로 만든 문자열을 반환하는 재귀 함수 reverse_string_recursive(s)를 작성하라."
   ]
  },
  {
   "cell_type": "code",
   "execution_count": 5,
   "metadata": {},
   "outputs": [
    {
     "name": "stdout",
     "output_type": "stream",
     "text": [
      "dcba"
     ]
    }
   ],
   "source": [
    "def reverse_string_recursive (s):\n",
    "    if len(s) == 0:\n",
    "        return \n",
    "    print(s[-1], end=\"\")\n",
    "    reverse_string_recursive(s[:-1])\n",
    "reverse_string_recursive('abcd')        \n"
   ]
  },
  {
   "cell_type": "markdown",
   "metadata": {},
   "source": [
    "#### 문제 2.\n",
    "x**n을 반환하는 재귀 함수 power_recursive(x, n)를 작성하라.\n",
    "\n",
    "단, n은 0보다 크거나 같은 정수라고 가정한다."
   ]
  },
  {
   "cell_type": "code",
   "execution_count": 8,
   "metadata": {},
   "outputs": [
    {
     "name": "stdout",
     "output_type": "stream",
     "text": [
      "16\n"
     ]
    }
   ],
   "source": [
    "def power_reculsive(x,n):\n",
    "    if n == 0:\n",
    "        return 1\n",
    "    else:\n",
    "        return(power_reculsive(x, n-1)*x)\n",
    "print(power_reculsive(4,2))"
   ]
  },
  {
   "cell_type": "code",
   "execution_count": 10,
   "metadata": {},
   "outputs": [
    {
     "name": "stdout",
     "output_type": "stream",
     "text": [
      "594 ns ± 1.77 ns per loop (mean ± std. dev. of 7 runs, 1000000 loops each)\n"
     ]
    }
   ],
   "source": [
    "%%timeit\n",
    "power_reculsive(3, 5)\n",
    "    "
   ]
  },
  {
   "cell_type": "code",
   "execution_count": 21,
   "metadata": {},
   "outputs": [
    {
     "name": "stdout",
     "output_type": "stream",
     "text": [
      "9.57 ns ± 0.463 ns per loop (mean ± std. dev. of 7 runs, 100000000 loops each)\n"
     ]
    }
   ],
   "source": [
    "%%timeit\n",
    "3**5"
   ]
  },
  {
   "cell_type": "markdown",
   "metadata": {},
   "source": [
    "#### 문제 3.\n",
    "다음 프로그램의 결과가 나오는 과정을 설명하라."
   ]
  },
  {
   "cell_type": "code",
   "execution_count": 12,
   "metadata": {},
   "outputs": [
    {
     "data": {
      "text/plain": [
       "[5, 4, 6, 6, 10]"
      ]
     },
     "execution_count": 12,
     "metadata": {},
     "output_type": "execute_result"
    }
   ],
   "source": [
    "fruits = ['apple', 'pear', 'banana', 'orange', 'strawberry']\n",
    "list(map(len, fruits))"
   ]
  },
  {
   "cell_type": "markdown",
   "metadata": {},
   "source": [
    "**답**:map함수의 첫번째 인수는 함수이고, 두번째 인수는 list이다. \n",
    " list(map(함수, 리스트))이고, 따라서 함수가 len(길이를 구하는 함수) 이기때문에 list 안에 있는 값의 길이들이 list 타입으로 반환되어 나타난 것이다."
   ]
  },
  {
   "cell_type": "markdown",
   "metadata": {},
   "source": [
    "#### 문제 4.\n",
    "아래 프로그램을 map() 함수를 이용해서 바꾸고, for loop과 map 함수를 사용한 경우의 실행 시간을 비교하라."
   ]
  },
  {
   "cell_type": "code",
   "execution_count": 13,
   "metadata": {},
   "outputs": [
    {
     "name": "stdout",
     "output_type": "stream",
     "text": [
      "1.03 µs ± 1.91 ns per loop (mean ± std. dev. of 7 runs, 1000000 loops each)\n"
     ]
    }
   ],
   "source": [
    "%%timeit\n",
    "secret_fruits = []\n",
    "for i in range(len(fruits)):\n",
    "    secret_fruits.append(hash(fruits[i]))"
   ]
  },
  {
   "cell_type": "code",
   "execution_count": 5,
   "metadata": {},
   "outputs": [
    {
     "name": "stdout",
     "output_type": "stream",
     "text": [
      "['apple', 'pear', 'banana', 'orange', 'strawberry']\n"
     ]
    }
   ],
   "source": [
    "print(fruits)    "
   ]
  },
  {
   "cell_type": "code",
   "execution_count": 17,
   "metadata": {},
   "outputs": [
    {
     "name": "stdout",
     "output_type": "stream",
     "text": [
      "388 ns ± 2.29 ns per loop (mean ± std. dev. of 7 runs, 1000000 loops each)\n"
     ]
    }
   ],
   "source": [
    "%%timeit\n",
    "list(map(len, fruits))"
   ]
  },
  {
   "cell_type": "markdown",
   "metadata": {},
   "source": [
    "#### 문제 5.\n",
    "리스트의 숫자를 sorting하는 quick sort 함수를 재귀 함수를 이용해서 만들어라.\n",
    "\n",
    "```\n",
    "lst = [5, 1, 5, 3, 7, 8, 4, 9, 1, 0, 4, 6, 7]\n",
    "```\n",
    "- 함수의 동작은 다음과 같다.\n",
    "\n",
    "  - 기초 단계: len(lst) < 2이면 lst를 반환한다.\n",
    "  - 재귀 단계:\n",
    "      - pivot = lst[0]\n",
    "      - pivot보다 작은 숫자들: [1, 3, 4, 1, 0, 4]\n",
    "      - pivot과 같은 숫자들: [5, 5]\n",
    "      - pivot보다 큰숫자들: [7, 8, 9, 6, 7]\n",
    "      - 큰 숫자들과 작은 숫자들을 자기 자신을 호출하면서 argument로 전달\n",
    "```\n",
    "[1, 3, 4, 1, 0, 4] + [5, 5] + [7, 8, 9, 6, 7]\n",
    "\n",
    "[1, 3, 4, 1, 0, 4] --> [0] + [1, 1] + [3, 4, 4]\n",
    "\n",
    "[7, 8, 9, 6, 7] --> [6] + [7, 7] + [8, 9]\n",
    "\n",
    "```\n",
    "[0] + [1, 1] + [3, 4, 4] + [5, 5] + [6] + [7, 7] + [8, 9]\n"
   ]
  },
  {
   "cell_type": "code",
   "execution_count": 22,
   "metadata": {},
   "outputs": [
    {
     "name": "stdout",
     "output_type": "stream",
     "text": [
      "[0, 1, 1, 3, 4, 4, 5, 5, 6, 7, 7, 8, 9]\n"
     ]
    }
   ],
   "source": [
    "lst =[5,1,5,3,7,8,4,9,1,0,4,6,7]\n",
    "def quick_sort(lst):\n",
    "    if len(lst)<2:\n",
    "        return lst\n",
    "    pivot=lst[len(lst)//2]\n",
    "    lesser_lst, equal_lst, greater_lst =[],[],[]\n",
    "    for num in lst:\n",
    "        if num <pivot:\n",
    "            lesser_lst.append(num)\n",
    "        elif num >pivot:\n",
    "            greater_lst.append(num)\n",
    "        else:\n",
    "            equal_lst.append(num)\n",
    "    return quick_sort(lesser_lst) + equal_lst + quick_sort(greater_lst)\n",
    "\n",
    "print(quick_sort(lst))\n",
    "        \n",
    "\n",
    "        \n"
   ]
  },
  {
   "cell_type": "code",
   "execution_count": null,
   "metadata": {},
   "outputs": [],
   "source": []
  }
 ],
 "metadata": {
  "kernelspec": {
   "display_name": "Python 3",
   "language": "python",
   "name": "python3"
  },
  "language_info": {
   "codemirror_mode": {
    "name": "ipython",
    "version": 3
   },
   "file_extension": ".py",
   "mimetype": "text/x-python",
   "name": "python",
   "nbconvert_exporter": "python",
   "pygments_lexer": "ipython3",
   "version": "3.8.5"
  },
  "latex_envs": {
   "LaTeX_envs_menu_present": true,
   "autoclose": false,
   "autocomplete": true,
   "bibliofile": "biblio.bib",
   "cite_by": "apalike",
   "current_citInitial": 1,
   "eqLabelWithNumbers": true,
   "eqNumInitial": 1,
   "hotkeys": {
    "equation": "Ctrl-E",
    "itemize": "Ctrl-I"
   },
   "labels_anchors": false,
   "latex_user_defs": false,
   "report_style_numbering": false,
   "user_envs_cfg": false
  },
  "toc": {
   "base_numbering": 1,
   "nav_menu": {},
   "number_sections": false,
   "sideBar": true,
   "skip_h1_title": false,
   "title_cell": "Table of Contents",
   "title_sidebar": "Contents",
   "toc_cell": false,
   "toc_position": {
    "height": "calc(100% - 180px)",
    "left": "10px",
    "top": "150px",
    "width": "270.5px"
   },
   "toc_section_display": true,
   "toc_window_display": false
  }
 },
 "nbformat": 4,
 "nbformat_minor": 2
}
