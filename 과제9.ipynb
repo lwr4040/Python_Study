{
 "cells": [
  {
   "cell_type": "markdown",
   "metadata": {},
   "source": [
    "# 실습 9주차\n",
    "20171722 \n",
    "이장범"
   ]
  },
  {
   "cell_type": "code",
   "execution_count": 14,
   "metadata": {},
   "outputs": [
    {
     "ename": "SyntaxError",
     "evalue": "invalid syntax (<ipython-input-14-32589a4f2265>, line 1)",
     "output_type": "error",
     "traceback": [
      "\u001b[1;36m  File \u001b[1;32m\"<ipython-input-14-32589a4f2265>\"\u001b[1;36m, line \u001b[1;32m1\u001b[0m\n\u001b[1;33m    format spec ::= [[fill]align][sign][#][0][width][groupng option][.precision][type]\u001b[0m\n\u001b[1;37m           ^\u001b[0m\n\u001b[1;31mSyntaxError\u001b[0m\u001b[1;31m:\u001b[0m invalid syntax\n"
     ]
    }
   ],
   "source": [
    "format spec ::= [[fill]align][sign][#][0][width][groupng option][.precision][type]\n"
   ]
  },
  {
   "cell_type": "code",
   "execution_count": 23,
   "metadata": {},
   "outputs": [
    {
     "name": "stdout",
     "output_type": "stream",
     "text": [
      "int :10: hex:a: oct:12: bin: 1010\n",
      "int :16: hex :10: oct:20: bin: 10000\n",
      "int :8: hex:8: oct:10: bin: 1000\n",
      "int :2: hex :2: oct:2: bin: 10\n"
     ]
    }
   ],
   "source": [
    "# format also supports binary numbers\n",
    "x=\"int :{0:d}: hex:{0:x}: oct:{0:o}: bin: {0:b}\".format(10)\n",
    "# format also supports binary numbers\n",
    "y=\"int :{0:d}: hex :{0:x}: oct:{0:o}: bin: {0:b}\".format(16)\n",
    "# format also supports binary numbers\n",
    "z=\"int :{0:d}: hex:{0:x}: oct:{0:o}: bin: {0:b}\".format(8)\n",
    "# format also supports binary numbers\n",
    "a=\"int :{0:d}: hex :{0:x}: oct:{0:o}: bin: {0:b}\".format(2)\n",
    "print(x)\n",
    "print(y)\n",
    "print(z)\n",
    "print(a)"
   ]
  },
  {
   "cell_type": "code",
   "execution_count": 54,
   "metadata": {},
   "outputs": [
    {
     "name": "stdout",
     "output_type": "stream",
     "text": [
      "int :10: hex:0xa: oct:12: bin: 1010\n",
      "int :16: hex :0x10: oct:20: bin: 10000\n",
      "int :8: hex:0x8: oct:10: bin: 1000\n",
      "int :2: hex :0x2: oct:2: bin: 10\n"
     ]
    }
   ],
   "source": [
    "# format also supports binary numbers\n",
    "x=\"int :{0:d}: hex:{0:#x}: oct:{0:o}: bin: {0:b}\".format(10)\n",
    "# format also supports binary numbers\n",
    "y=\"int :{0:d}: hex :{0:#x}: oct:{0:o}: bin: {0:b}\".format(16)\n",
    "# format also supports binary numbers\n",
    "z=\"int :{0:d}: hex:{0:#x}: oct:{0:o}: bin: {0:b}\".format(8)\n",
    "# format also supports binary numbers\n",
    "a=\"int :{0:d}: hex :{0:#x}: oct:{0:o}: bin: {0:b}\".format(2)\n",
    "print(x)\n",
    "print(y)\n",
    "print(z)\n",
    "print(a)"
   ]
  },
  {
   "cell_type": "code",
   "execution_count": 44,
   "metadata": {},
   "outputs": [
    {
     "name": "stdout",
     "output_type": "stream",
     "text": [
      "dec :0: hex:0x0: oct:0o0: bin: 0b0\n",
      "dec :1: hex:0x1: oct:0o1: bin: 0b1\n",
      "dec :2: hex:0x2: oct:0o2: bin: 0b10\n",
      "dec :3: hex:0x3: oct:0o3: bin: 0b11\n",
      "dec :4: hex:0x4: oct:0o4: bin: 0b100\n",
      "dec :5: hex:0x5: oct:0o5: bin: 0b101\n",
      "dec :6: hex:0x6: oct:0o6: bin: 0b110\n",
      "dec :7: hex:0x7: oct:0o7: bin: 0b111\n",
      "dec :8: hex:0x8: oct:0o10: bin: 0b1000\n"
     ]
    }
   ],
   "source": [
    "a=\"dec :{0:d}: hex:{0:#x}: oct:{0:#o}: bin: {0:#b}\".format(0)\n",
    "b=\"dec :{0:d}: hex:{0:#x}: oct:{0:#o}: bin: {0:#b}\".format(1)\n",
    "c=\"dec :{0:d}: hex:{0:#x}: oct:{0:#o}: bin: {0:#b}\".format(2)\n",
    "d=\"dec :{0:d}: hex:{0:#x}: oct:{0:#o}: bin: {0:#b}\".format(3)\n",
    "e=\"dec :{0:d}: hex:{0:#x}: oct:{0:#o}: bin: {0:#b}\".format(4)\n",
    "f=\"dec :{0:d}: hex:{0:#x}: oct:{0:#o}: bin: {0:#b}\".format(5)\n",
    "g=\"dec :{0:d}: hex:{0:#x}: oct:{0:#o}: bin: {0:#b}\".format(6)\n",
    "h=\"dec :{0:d}: hex:{0:#x}: oct:{0:#o}: bin: {0:#b}\".format(7)\n",
    "i=\"dec :{0:d}: hex:{0:#x}: oct:{0:#o}: bin: {0:#b}\".format(8)\n",
    "print(a)\n",
    "print(b)\n",
    "print(c)\n",
    "print(d)\n",
    "print(e)\n",
    "print(f)\n",
    "print(g)\n",
    "print(h)\n",
    "print(i)"
   ]
  },
  {
   "cell_type": "code",
   "execution_count": 45,
   "metadata": {},
   "outputs": [
    {
     "name": "stdout",
     "output_type": "stream",
     "text": [
      "dec :0: hex:0x0: oct:0o0: bin: 0b0\n",
      "dec :1: hex:0x1: oct:0o1: bin: 0b1\n",
      "dec :2: hex:0x2: oct:0o2: bin: 0b10\n",
      "dec :3: hex:0x3: oct:0o3: bin: 0b11\n",
      "dec :4: hex:0x4: oct:0o4: bin: 0b100\n",
      "dec :5: hex:0x5: oct:0o5: bin: 0b101\n",
      "dec :6: hex:0x6: oct:0o6: bin: 0b110\n",
      "dec :7: hex:0x7: oct:0o7: bin: 0b111\n",
      "dec :8: hex:0x8: oct:0o10: bin: 0b1000\n",
      "dec :9: hex:0x9: oct:0o11: bin: 0b1001\n",
      "dec :10: hex:0xa: oct:0o12: bin: 0b1010\n"
     ]
    }
   ],
   "source": [
    "a=\"dec :{0:d}: hex:{0:#x}: oct:{0:#o}: bin: {0:#b}\".format(0)\n",
    "b=\"dec :{0:d}: hex:{0:#x}: oct:{0:#o}: bin: {0:#b}\".format(1)\n",
    "c=\"dec :{0:d}: hex:{0:#x}: oct:{0:#o}: bin: {0:#b}\".format(2)\n",
    "d=\"dec :{0:d}: hex:{0:#x}: oct:{0:#o}: bin: {0:#b}\".format(3)\n",
    "e=\"dec :{0:d}: hex:{0:#x}: oct:{0:#o}: bin: {0:#b}\".format(4)\n",
    "f=\"dec :{0:d}: hex:{0:#x}: oct:{0:#o}: bin: {0:#b}\".format(5)\n",
    "g=\"dec :{0:d}: hex:{0:#x}: oct:{0:#o}: bin: {0:#b}\".format(6)\n",
    "h=\"dec :{0:d}: hex:{0:#x}: oct:{0:#o}: bin: {0:#b}\".format(7)\n",
    "i=\"dec :{0:d}: hex:{0:#x}: oct:{0:#o}: bin: {0:#b}\".format(8)\n",
    "j=\"dec :{0:d}: hex:{0:#x}: oct:{0:#o}: bin: {0:#b}\".format(9)\n",
    "k=\"dec :{0:d}: hex:{0:#x}: oct:{0:#o}: bin: {0:#b}\".format(10)\n",
    "print(a)\n",
    "print(b)\n",
    "print(c)\n",
    "print(d)\n",
    "print(e)\n",
    "print(f)\n",
    "print(g)\n",
    "print(h)\n",
    "print(i)\n",
    "print(j)\n",
    "print(k)"
   ]
  },
  {
   "cell_type": "code",
   "execution_count": 46,
   "metadata": {
    "scrolled": true
   },
   "outputs": [
    {
     "name": "stdout",
     "output_type": "stream",
     "text": [
      "dec :0: hex:0x0: oct:0o0: bin: 0b0\n",
      "dec :1: hex:0x1: oct:0o1: bin: 0b1\n",
      "dec :2: hex:0x2: oct:0o2: bin: 0b10\n",
      "dec :3: hex:0x3: oct:0o3: bin: 0b11\n",
      "dec :4: hex:0x4: oct:0o4: bin: 0b100\n",
      "dec :5: hex:0x5: oct:0o5: bin: 0b101\n",
      "dec :6: hex:0x6: oct:0o6: bin: 0b110\n",
      "dec :7: hex:0x7: oct:0o7: bin: 0b111\n",
      "dec :8: hex:0x8: oct:0o10: bin: 0b1000\n",
      "dec :9: hex:0x9: oct:0o11: bin: 0b1001\n",
      "dec :10: hex:0xa: oct:0o12: bin: 0b1010\n",
      "dec :11: hex:0xb: oct:0o13: bin: 0b1011\n",
      "dec :12: hex:0xc: oct:0o14: bin: 0b1100\n",
      "dec :13: hex:0xd: oct:0o15: bin: 0b1101\n",
      "dec :14: hex:0xe: oct:0o16: bin: 0b1110\n",
      "dec :15: hex:0xf: oct:0o17: bin: 0b1111\n",
      "dec :16: hex:0x10: oct:0o20: bin: 0b10000\n"
     ]
    }
   ],
   "source": [
    "a=\"dec :{0:d}: hex:{0:#x}: oct:{0:#o}: bin: {0:#b}\".format(0)\n",
    "b=\"dec :{0:d}: hex:{0:#x}: oct:{0:#o}: bin: {0:#b}\".format(1)\n",
    "c=\"dec :{0:d}: hex:{0:#x}: oct:{0:#o}: bin: {0:#b}\".format(2)\n",
    "d=\"dec :{0:d}: hex:{0:#x}: oct:{0:#o}: bin: {0:#b}\".format(3)\n",
    "e=\"dec :{0:d}: hex:{0:#x}: oct:{0:#o}: bin: {0:#b}\".format(4)\n",
    "f=\"dec :{0:d}: hex:{0:#x}: oct:{0:#o}: bin: {0:#b}\".format(5)\n",
    "g=\"dec :{0:d}: hex:{0:#x}: oct:{0:#o}: bin: {0:#b}\".format(6)\n",
    "h=\"dec :{0:d}: hex:{0:#x}: oct:{0:#o}: bin: {0:#b}\".format(7)\n",
    "i=\"dec :{0:d}: hex:{0:#x}: oct:{0:#o}: bin: {0:#b}\".format(8)\n",
    "j=\"dec :{0:d}: hex:{0:#x}: oct:{0:#o}: bin: {0:#b}\".format(9)\n",
    "k=\"dec :{0:d}: hex:{0:#x}: oct:{0:#o}: bin: {0:#b}\".format(10)\n",
    "l=\"dec :{0:d}: hex:{0:#x}: oct:{0:#o}: bin: {0:#b}\".format(11)\n",
    "m=\"dec :{0:d}: hex:{0:#x}: oct:{0:#o}: bin: {0:#b}\".format(12)\n",
    "n=\"dec :{0:d}: hex:{0:#x}: oct:{0:#o}: bin: {0:#b}\".format(13)\n",
    "o=\"dec :{0:d}: hex:{0:#x}: oct:{0:#o}: bin: {0:#b}\".format(14)\n",
    "p=\"dec :{0:d}: hex:{0:#x}: oct:{0:#o}: bin: {0:#b}\".format(15)\n",
    "q=\"dec :{0:d}: hex:{0:#x}: oct:{0:#o}: bin: {0:#b}\".format(16)\n",
    "print(a)\n",
    "print(b)\n",
    "print(c)\n",
    "print(d)\n",
    "print(e)\n",
    "print(f)\n",
    "print(g)\n",
    "print(h)\n",
    "print(i)\n",
    "print(j)\n",
    "print(k)\n",
    "print(l)\n",
    "print(m)\n",
    "print(n)\n",
    "print(o)\n",
    "print(p)\n",
    "1=print(q)"
   ]
  },
  {
   "cell_type": "code",
   "execution_count": 63,
   "metadata": {
    "scrolled": true
   },
   "outputs": [
    {
     "name": "stdout",
     "output_type": "stream",
     "text": [
      "int :0: hex0 : oct :0 : bin : 0\n"
     ]
    }
   ],
   "source": [
    "d= '1'\n",
    "x=(f'int :{0:d}: hex{0:x} : oct :{0:o} : bin : {0:b}')\n",
    "print(x)"
   ]
  },
  {
   "cell_type": "code",
   "execution_count": null,
   "metadata": {},
   "outputs": [],
   "source": []
  },
  {
   "cell_type": "code",
   "execution_count": 64,
   "metadata": {},
   "outputs": [
    {
     "name": "stdout",
     "output_type": "stream",
     "text": [
      "The value of pi is approximately 3.142.\n",
      "The value of pi is approximately 3.14159.\n",
      "The value of pi is approximately 3.1415927.\n"
     ]
    }
   ],
   "source": [
    "import math\n",
    "print(f'The value of pi is approximately {math.pi:.3f}.')\n",
    "print(f'The value of pi is approximately {math.pi:.5f}.')\n",
    "print(f'The value of pi is approximately {math.pi:.7f}.')"
   ]
  },
  {
   "cell_type": "code",
   "execution_count": null,
   "metadata": {},
   "outputs": [],
   "source": [
    "replacement_field :: \"{\" [field_name] [ \"!\" conversion] [ \": \" format_spec] \"}\"\n",
    "field_name :: = arg_name (\".\" attribute_name | \"[\"element_index\"]\")*\n",
    "arg_name :: = [identifier | digit +]\n",
    "attribute_name ::= identifier"
   ]
  },
  {
   "cell_type": "code",
   "execution_count": 12,
   "metadata": {},
   "outputs": [
    {
     "name": "stdout",
     "output_type": "stream",
     "text": [
      "Sjoerd    ==>       4127\n",
      "Jack      ==>       4098\n",
      "Dcab      ==>       7678\n"
     ]
    }
   ],
   "source": [
    "table = {'Sjoerd ':4127, 'Jack': 4098, 'Dcab':7678}\n",
    "for name, phone in table. items():\n",
    "    print(f'{name:10}==> {phone :10d}')"
   ]
  },
  {
   "cell_type": "code",
   "execution_count": 69,
   "metadata": {},
   "outputs": [
    {
     "ename": "NameError",
     "evalue": "name 'read' is not defined",
     "output_type": "error",
     "traceback": [
      "\u001b[1;31m---------------------------------------------------------------------------\u001b[0m",
      "\u001b[1;31mNameError\u001b[0m                                 Traceback (most recent call last)",
      "\u001b[1;32m<ipython-input-69-c7c262f67225>\u001b[0m in \u001b[0;36m<module>\u001b[1;34m\u001b[0m\n\u001b[0;32m      1\u001b[0m \u001b[0mfile\u001b[0m\u001b[1;33m=\u001b[0m\u001b[0mopen\u001b[0m\u001b[1;33m(\u001b[0m\u001b[1;34m'input_text.txt'\u001b[0m\u001b[1;33m,\u001b[0m\u001b[1;34m'w'\u001b[0m\u001b[1;33m)\u001b[0m\u001b[1;33m\u001b[0m\u001b[1;33m\u001b[0m\u001b[0m\n\u001b[1;32m----> 2\u001b[1;33m \u001b[0mread\u001b[0m\u001b[1;33m.\u001b[0m\u001b[0mtxt\u001b[0m\u001b[1;33m(\u001b[0m\u001b[0mfile\u001b[0m\u001b[1;33m)\u001b[0m\u001b[1;33m\u001b[0m\u001b[1;33m\u001b[0m\u001b[0m\n\u001b[0m",
      "\u001b[1;31mNameError\u001b[0m: name 'read' is not defined"
     ]
    }
   ],
   "source": [
    "file=open('input_text.txt','w')\n",
    "read.txt(file)\n",
    "str.split()"
   ]
  },
  {
   "cell_type": "code",
   "execution_count": 70,
   "metadata": {},
   "outputs": [
    {
     "ename": "NameError",
     "evalue": "name 'read' is not defined",
     "output_type": "error",
     "traceback": [
      "\u001b[1;31m---------------------------------------------------------------------------\u001b[0m",
      "\u001b[1;31mNameError\u001b[0m                                 Traceback (most recent call last)",
      "\u001b[1;32m<ipython-input-70-0a4cce404447>\u001b[0m in \u001b[0;36m<module>\u001b[1;34m\u001b[0m\n\u001b[0;32m      1\u001b[0m \u001b[0mfile\u001b[0m\u001b[1;33m=\u001b[0m\u001b[0mopen\u001b[0m\u001b[1;33m(\u001b[0m\u001b[1;34m'캡쳐.png'\u001b[0m\u001b[1;33m,\u001b[0m\u001b[1;34m'w'\u001b[0m\u001b[1;33m)\u001b[0m\u001b[1;33m\u001b[0m\u001b[1;33m\u001b[0m\u001b[0m\n\u001b[1;32m----> 2\u001b[1;33m \u001b[0mread\u001b[0m\u001b[1;33m.\u001b[0m\u001b[0mpng\u001b[0m\u001b[1;33m(\u001b[0m\u001b[0mfile\u001b[0m\u001b[1;33m)\u001b[0m\u001b[1;33m\u001b[0m\u001b[1;33m\u001b[0m\u001b[0m\n\u001b[0m",
      "\u001b[1;31mNameError\u001b[0m: name 'read' is not defined"
     ]
    }
   ],
   "source": [
    "file=open('캡쳐.png','w')\n",
    "read.png(file)"
   ]
  },
  {
   "cell_type": "code",
   "execution_count": null,
   "metadata": {},
   "outputs": [],
   "source": []
  }
 ],
 "metadata": {
  "kernelspec": {
   "display_name": "Python 3",
   "language": "python",
   "name": "python3"
  },
  "language_info": {
   "codemirror_mode": {
    "name": "ipython",
    "version": 3
   },
   "file_extension": ".py",
   "mimetype": "text/x-python",
   "name": "python",
   "nbconvert_exporter": "python",
   "pygments_lexer": "ipython3",
   "version": "3.8.5"
  }
 },
 "nbformat": 4,
 "nbformat_minor": 4
}
